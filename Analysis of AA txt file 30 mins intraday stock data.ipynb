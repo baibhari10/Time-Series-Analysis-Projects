{
 "cells": [
  {
   "cell_type": "markdown",
   "metadata": {},
   "source": [
    "#  Analytical representation of 30 mins intraday stock data from 1998 to 2015"
   ]
  },
  {
   "cell_type": "markdown",
   "metadata": {},
   "source": [
    "_For this project on analyzing 30 mins intraday stock data, I will present descriptive statistics for a bunch of dataset (and my \"ultimate\" plan is to make a model which will be trained by these datasets and will be tested by other available datasets.)_ "
   ]
  },
  {
   "cell_type": "markdown",
   "metadata": {},
   "source": [
    "## 1. Importing library packages"
   ]
  },
  {
   "cell_type": "markdown",
   "metadata": {},
   "source": [
    "For analyzing the dataset, I'll be importing couple of python libraries namely **numpy**, which is essential to manipulate large, multidimensional matrices and arrays, **matplotlib**, which will be useful to plot all the prices and other features' value and then **pandas** which is an acclaimed python library for data analysis."
   ]
  },
  {
   "cell_type": "code",
   "execution_count": 45,
   "metadata": {},
   "outputs": [],
   "source": [
    "import numpy as np\n",
    "import matplotlib.pyplot as plt\n",
    "import pandas as pd\n",
    "from datetime import datetime"
   ]
  },
  {
   "cell_type": "markdown",
   "metadata": {},
   "source": [
    "## 2. Conversion of .txt file into .csv file and read that in dataframe"
   ]
  },
  {
   "cell_type": "markdown",
   "metadata": {},
   "source": [
    "To facilitate the analysis I'm converting **.txt** file into **.csv** file at this point. "
   ]
  },
  {
   "cell_type": "code",
   "execution_count": 46,
   "metadata": {},
   "outputs": [],
   "source": [
    "df=pd.read_csv(\"AA.csv\");  #Loading the .csv file on dataframe df\n",
    "\n",
    "#df=pd.read_csv(\"AA.csv\", names=['Date', 'Time', 'Closing Price', 'Highest price','Lowest price','Opening price','Volume'])#another way to name the features\n"
   ]
  },
  {
   "cell_type": "markdown",
   "metadata": {},
   "source": [
    "## 3. Working in dataframe"
   ]
  },
  {
   "cell_type": "code",
   "execution_count": 47,
   "metadata": {},
   "outputs": [
    {
     "data": {
      "text/html": [
       "<div>\n",
       "<style scoped>\n",
       "    .dataframe tbody tr th:only-of-type {\n",
       "        vertical-align: middle;\n",
       "    }\n",
       "\n",
       "    .dataframe tbody tr th {\n",
       "        vertical-align: top;\n",
       "    }\n",
       "\n",
       "    .dataframe thead th {\n",
       "        text-align: right;\n",
       "    }\n",
       "</style>\n",
       "<table border=\"1\" class=\"dataframe\">\n",
       "  <thead>\n",
       "    <tr style=\"text-align: right;\">\n",
       "      <th></th>\n",
       "      <th>Date</th>\n",
       "      <th>Time</th>\n",
       "      <th>Closing Price</th>\n",
       "      <th>Highest price</th>\n",
       "      <th>Lowest price</th>\n",
       "      <th>Opening price</th>\n",
       "      <th>Volume</th>\n",
       "    </tr>\n",
       "  </thead>\n",
       "  <tbody>\n",
       "    <tr>\n",
       "      <th>0</th>\n",
       "      <td>01/02/1998</td>\n",
       "      <td>10:00</td>\n",
       "      <td>13.072</td>\n",
       "      <td>13.130</td>\n",
       "      <td>13.061</td>\n",
       "      <td>13.130</td>\n",
       "      <td>420554</td>\n",
       "    </tr>\n",
       "    <tr>\n",
       "      <th>1</th>\n",
       "      <td>01/02/1998</td>\n",
       "      <td>10:30</td>\n",
       "      <td>13.118</td>\n",
       "      <td>13.130</td>\n",
       "      <td>13.107</td>\n",
       "      <td>13.118</td>\n",
       "      <td>272411</td>\n",
       "    </tr>\n",
       "    <tr>\n",
       "      <th>2</th>\n",
       "      <td>01/02/1998</td>\n",
       "      <td>11:00</td>\n",
       "      <td>13.118</td>\n",
       "      <td>13.153</td>\n",
       "      <td>13.107</td>\n",
       "      <td>13.153</td>\n",
       "      <td>315824</td>\n",
       "    </tr>\n",
       "    <tr>\n",
       "      <th>3</th>\n",
       "      <td>01/02/1998</td>\n",
       "      <td>11:30</td>\n",
       "      <td>13.153</td>\n",
       "      <td>13.199</td>\n",
       "      <td>13.118</td>\n",
       "      <td>13.118</td>\n",
       "      <td>149775</td>\n",
       "    </tr>\n",
       "    <tr>\n",
       "      <th>4</th>\n",
       "      <td>01/02/1998</td>\n",
       "      <td>12:00</td>\n",
       "      <td>13.118</td>\n",
       "      <td>13.165</td>\n",
       "      <td>13.118</td>\n",
       "      <td>13.165</td>\n",
       "      <td>115044</td>\n",
       "    </tr>\n",
       "    <tr>\n",
       "      <th>5</th>\n",
       "      <td>01/02/1998</td>\n",
       "      <td>12:30</td>\n",
       "      <td>13.153</td>\n",
       "      <td>13.165</td>\n",
       "      <td>13.130</td>\n",
       "      <td>13.153</td>\n",
       "      <td>160083</td>\n",
       "    </tr>\n",
       "    <tr>\n",
       "      <th>6</th>\n",
       "      <td>01/02/1998</td>\n",
       "      <td>13:00</td>\n",
       "      <td>13.165</td>\n",
       "      <td>13.165</td>\n",
       "      <td>13.142</td>\n",
       "      <td>13.153</td>\n",
       "      <td>56438</td>\n",
       "    </tr>\n",
       "    <tr>\n",
       "      <th>7</th>\n",
       "      <td>01/02/1998</td>\n",
       "      <td>13:30</td>\n",
       "      <td>13.153</td>\n",
       "      <td>13.153</td>\n",
       "      <td>13.095</td>\n",
       "      <td>13.130</td>\n",
       "      <td>97679</td>\n",
       "    </tr>\n",
       "    <tr>\n",
       "      <th>8</th>\n",
       "      <td>01/02/1998</td>\n",
       "      <td>14:00</td>\n",
       "      <td>13.130</td>\n",
       "      <td>13.165</td>\n",
       "      <td>13.107</td>\n",
       "      <td>13.142</td>\n",
       "      <td>109075</td>\n",
       "    </tr>\n",
       "    <tr>\n",
       "      <th>9</th>\n",
       "      <td>01/02/1998</td>\n",
       "      <td>14:30</td>\n",
       "      <td>13.142</td>\n",
       "      <td>13.142</td>\n",
       "      <td>13.084</td>\n",
       "      <td>13.084</td>\n",
       "      <td>126983</td>\n",
       "    </tr>\n",
       "  </tbody>\n",
       "</table>\n",
       "</div>"
      ],
      "text/plain": [
       "         Date   Time  Closing Price  Highest price  Lowest price  \\\n",
       "0  01/02/1998  10:00         13.072         13.130        13.061   \n",
       "1  01/02/1998  10:30         13.118         13.130        13.107   \n",
       "2  01/02/1998  11:00         13.118         13.153        13.107   \n",
       "3  01/02/1998  11:30         13.153         13.199        13.118   \n",
       "4  01/02/1998  12:00         13.118         13.165        13.118   \n",
       "5  01/02/1998  12:30         13.153         13.165        13.130   \n",
       "6  01/02/1998  13:00         13.165         13.165        13.142   \n",
       "7  01/02/1998  13:30         13.153         13.153        13.095   \n",
       "8  01/02/1998  14:00         13.130         13.165        13.107   \n",
       "9  01/02/1998  14:30         13.142         13.142        13.084   \n",
       "\n",
       "   Opening price  Volume  \n",
       "0         13.130  420554  \n",
       "1         13.118  272411  \n",
       "2         13.153  315824  \n",
       "3         13.118  149775  \n",
       "4         13.165  115044  \n",
       "5         13.153  160083  \n",
       "6         13.153   56438  \n",
       "7         13.130   97679  \n",
       "8         13.142  109075  \n",
       "9         13.084  126983  "
      ]
     },
     "execution_count": 47,
     "metadata": {},
     "output_type": "execute_result"
    }
   ],
   "source": [
    "\n",
    "df.columns = ['Date', 'Time', 'Closing Price', 'Highest price','Lowest price','Opening price','Volume'];# Adding columns' title \n",
    "\n",
    "df.head(10) # showing top 10 rows on each execution"
   ]
  },
  {
   "cell_type": "code",
   "execution_count": 48,
   "metadata": {},
   "outputs": [
    {
     "data": {
      "text/plain": [
       "(84347, 7)"
      ]
     },
     "execution_count": 48,
     "metadata": {},
     "output_type": "execute_result"
    }
   ],
   "source": [
    "df.shape # it would give number of rows and columns"
   ]
  },
  {
   "cell_type": "code",
   "execution_count": 49,
   "metadata": {},
   "outputs": [
    {
     "data": {
      "text/plain": [
       "Date             01/02/1998\n",
       "Time                  12:30\n",
       "Closing Price        13.153\n",
       "Highest price        13.165\n",
       "Lowest price          13.13\n",
       "Opening price        13.153\n",
       "Volume               160083\n",
       "Name: 5, dtype: object"
      ]
     },
     "execution_count": 49,
     "metadata": {},
     "output_type": "execute_result"
    }
   ],
   "source": [
    "df.iloc[5,:] #iloc” in pandas is used to select rows and columns by number"
   ]
  },
  {
   "cell_type": "markdown",
   "metadata": {},
   "source": [
    "## 3. Statistical description of data"
   ]
  },
  {
   "cell_type": "code",
   "execution_count": 50,
   "metadata": {},
   "outputs": [
    {
     "data": {
      "text/html": [
       "<div>\n",
       "<style scoped>\n",
       "    .dataframe tbody tr th:only-of-type {\n",
       "        vertical-align: middle;\n",
       "    }\n",
       "\n",
       "    .dataframe tbody tr th {\n",
       "        vertical-align: top;\n",
       "    }\n",
       "\n",
       "    .dataframe thead th {\n",
       "        text-align: right;\n",
       "    }\n",
       "</style>\n",
       "<table border=\"1\" class=\"dataframe\">\n",
       "  <thead>\n",
       "    <tr style=\"text-align: right;\">\n",
       "      <th></th>\n",
       "      <th>Closing Price</th>\n",
       "      <th>Highest price</th>\n",
       "      <th>Lowest price</th>\n",
       "      <th>Opening price</th>\n",
       "      <th>Volume</th>\n",
       "    </tr>\n",
       "  </thead>\n",
       "  <tbody>\n",
       "    <tr>\n",
       "      <th>count</th>\n",
       "      <td>84347.000000</td>\n",
       "      <td>84347.000000</td>\n",
       "      <td>84347.000000</td>\n",
       "      <td>84347.000000</td>\n",
       "      <td>8.434700e+04</td>\n",
       "    </tr>\n",
       "    <tr>\n",
       "      <th>mean</th>\n",
       "      <td>18.460757</td>\n",
       "      <td>18.522249</td>\n",
       "      <td>18.397176</td>\n",
       "      <td>18.459780</td>\n",
       "      <td>7.343793e+05</td>\n",
       "    </tr>\n",
       "    <tr>\n",
       "      <th>std</th>\n",
       "      <td>8.349751</td>\n",
       "      <td>8.378110</td>\n",
       "      <td>8.320101</td>\n",
       "      <td>8.348991</td>\n",
       "      <td>1.200385e+06</td>\n",
       "    </tr>\n",
       "    <tr>\n",
       "      <th>min</th>\n",
       "      <td>4.702900</td>\n",
       "      <td>4.731000</td>\n",
       "      <td>4.665300</td>\n",
       "      <td>4.702500</td>\n",
       "      <td>1.000000e+02</td>\n",
       "    </tr>\n",
       "    <tr>\n",
       "      <th>25%</th>\n",
       "      <td>10.900000</td>\n",
       "      <td>10.940000</td>\n",
       "      <td>10.856000</td>\n",
       "      <td>10.900000</td>\n",
       "      <td>3.352100e+04</td>\n",
       "    </tr>\n",
       "    <tr>\n",
       "      <th>50%</th>\n",
       "      <td>16.030000</td>\n",
       "      <td>16.081000</td>\n",
       "      <td>15.987000</td>\n",
       "      <td>16.030000</td>\n",
       "      <td>3.340590e+05</td>\n",
       "    </tr>\n",
       "    <tr>\n",
       "      <th>75%</th>\n",
       "      <td>25.800000</td>\n",
       "      <td>25.880000</td>\n",
       "      <td>25.700000</td>\n",
       "      <td>25.800000</td>\n",
       "      <td>8.871270e+05</td>\n",
       "    </tr>\n",
       "    <tr>\n",
       "      <th>max</th>\n",
       "      <td>42.790000</td>\n",
       "      <td>43.160000</td>\n",
       "      <td>42.610000</td>\n",
       "      <td>42.740000</td>\n",
       "      <td>5.319936e+07</td>\n",
       "    </tr>\n",
       "  </tbody>\n",
       "</table>\n",
       "</div>"
      ],
      "text/plain": [
       "       Closing Price  Highest price  Lowest price  Opening price        Volume\n",
       "count   84347.000000   84347.000000  84347.000000   84347.000000  8.434700e+04\n",
       "mean       18.460757      18.522249     18.397176      18.459780  7.343793e+05\n",
       "std         8.349751       8.378110      8.320101       8.348991  1.200385e+06\n",
       "min         4.702900       4.731000      4.665300       4.702500  1.000000e+02\n",
       "25%        10.900000      10.940000     10.856000      10.900000  3.352100e+04\n",
       "50%        16.030000      16.081000     15.987000      16.030000  3.340590e+05\n",
       "75%        25.800000      25.880000     25.700000      25.800000  8.871270e+05\n",
       "max        42.790000      43.160000     42.610000      42.740000  5.319936e+07"
      ]
     },
     "execution_count": 50,
     "metadata": {},
     "output_type": "execute_result"
    }
   ],
   "source": [
    "df.describe() #calling Pandas describe () method which is used to view some basic statistical details like percentile, mean, std etc. of a data frame or a series of numeric values"
   ]
  },
  {
   "cell_type": "markdown",
   "metadata": {},
   "source": [
    "## 4. Visualization of data with respect of time"
   ]
  },
  {
   "cell_type": "code",
   "execution_count": 51,
   "metadata": {},
   "outputs": [
    {
     "data": {
      "text/plain": [
       "<matplotlib.axes._subplots.AxesSubplot at 0x16331631748>"
      ]
     },
     "execution_count": 51,
     "metadata": {},
     "output_type": "execute_result"
    },
    {
     "data": {
      "image/png": "[encoded data removed]",
      "text/plain": [
       "<Figure size 432x288 with 1 Axes>"
      ]
     },
     "metadata": {
      "needs_background": "light"
     },
     "output_type": "display_data"
    }
   ],
   "source": [
    "data1 = df.loc[:,['Time', 'Closing Price', 'Highest price','Lowest price','Opening price','Volume']]\n",
    "data1.plot() #.loc to access the rows and columns by labelling them and plot them consequently "
   ]
  },
  {
   "cell_type": "code",
   "execution_count": 55,
   "metadata": {},
   "outputs": [
    {
     "data": {
      "text/html": [
       "<div>\n",
       "<style scoped>\n",
       "    .dataframe tbody tr th:only-of-type {\n",
       "        vertical-align: middle;\n",
       "    }\n",
       "\n",
       "    .dataframe tbody tr th {\n",
       "        vertical-align: top;\n",
       "    }\n",
       "\n",
       "    .dataframe thead th {\n",
       "        text-align: right;\n",
       "    }\n",
       "</style>\n",
       "<table border=\"1\" class=\"dataframe\">\n",
       "  <thead>\n",
       "    <tr style=\"text-align: right;\">\n",
       "      <th></th>\n",
       "      <th>Date</th>\n",
       "      <th>Time</th>\n",
       "      <th>Closing Price</th>\n",
       "      <th>Highest price</th>\n",
       "      <th>Lowest price</th>\n",
       "      <th>Opening price</th>\n",
       "      <th>Volume</th>\n",
       "    </tr>\n",
       "    <tr>\n",
       "      <th>datetime</th>\n",
       "      <th></th>\n",
       "      <th></th>\n",
       "      <th></th>\n",
       "      <th></th>\n",
       "      <th></th>\n",
       "      <th></th>\n",
       "      <th></th>\n",
       "    </tr>\n",
       "  </thead>\n",
       "  <tbody>\n",
       "    <tr>\n",
       "      <th>1998-01-02</th>\n",
       "      <td>01/02/1998</td>\n",
       "      <td>10:00</td>\n",
       "      <td>13.072</td>\n",
       "      <td>13.130</td>\n",
       "      <td>13.061</td>\n",
       "      <td>13.130</td>\n",
       "      <td>420554</td>\n",
       "    </tr>\n",
       "    <tr>\n",
       "      <th>1998-01-02</th>\n",
       "      <td>01/02/1998</td>\n",
       "      <td>10:30</td>\n",
       "      <td>13.118</td>\n",
       "      <td>13.130</td>\n",
       "      <td>13.107</td>\n",
       "      <td>13.118</td>\n",
       "      <td>272411</td>\n",
       "    </tr>\n",
       "    <tr>\n",
       "      <th>1998-01-02</th>\n",
       "      <td>01/02/1998</td>\n",
       "      <td>11:00</td>\n",
       "      <td>13.118</td>\n",
       "      <td>13.153</td>\n",
       "      <td>13.107</td>\n",
       "      <td>13.153</td>\n",
       "      <td>315824</td>\n",
       "    </tr>\n",
       "    <tr>\n",
       "      <th>1998-01-02</th>\n",
       "      <td>01/02/1998</td>\n",
       "      <td>11:30</td>\n",
       "      <td>13.153</td>\n",
       "      <td>13.199</td>\n",
       "      <td>13.118</td>\n",
       "      <td>13.118</td>\n",
       "      <td>149775</td>\n",
       "    </tr>\n",
       "    <tr>\n",
       "      <th>1998-01-02</th>\n",
       "      <td>01/02/1998</td>\n",
       "      <td>12:00</td>\n",
       "      <td>13.118</td>\n",
       "      <td>13.165</td>\n",
       "      <td>13.118</td>\n",
       "      <td>13.165</td>\n",
       "      <td>115044</td>\n",
       "    </tr>\n",
       "    <tr>\n",
       "      <th>1998-01-02</th>\n",
       "      <td>01/02/1998</td>\n",
       "      <td>12:30</td>\n",
       "      <td>13.153</td>\n",
       "      <td>13.165</td>\n",
       "      <td>13.130</td>\n",
       "      <td>13.153</td>\n",
       "      <td>160083</td>\n",
       "    </tr>\n",
       "    <tr>\n",
       "      <th>1998-01-02</th>\n",
       "      <td>01/02/1998</td>\n",
       "      <td>13:00</td>\n",
       "      <td>13.165</td>\n",
       "      <td>13.165</td>\n",
       "      <td>13.142</td>\n",
       "      <td>13.153</td>\n",
       "      <td>56438</td>\n",
       "    </tr>\n",
       "    <tr>\n",
       "      <th>1998-01-02</th>\n",
       "      <td>01/02/1998</td>\n",
       "      <td>13:30</td>\n",
       "      <td>13.153</td>\n",
       "      <td>13.153</td>\n",
       "      <td>13.095</td>\n",
       "      <td>13.130</td>\n",
       "      <td>97679</td>\n",
       "    </tr>\n",
       "    <tr>\n",
       "      <th>1998-01-02</th>\n",
       "      <td>01/02/1998</td>\n",
       "      <td>14:00</td>\n",
       "      <td>13.130</td>\n",
       "      <td>13.165</td>\n",
       "      <td>13.107</td>\n",
       "      <td>13.142</td>\n",
       "      <td>109075</td>\n",
       "    </tr>\n",
       "    <tr>\n",
       "      <th>1998-01-02</th>\n",
       "      <td>01/02/1998</td>\n",
       "      <td>14:30</td>\n",
       "      <td>13.142</td>\n",
       "      <td>13.142</td>\n",
       "      <td>13.084</td>\n",
       "      <td>13.084</td>\n",
       "      <td>126983</td>\n",
       "    </tr>\n",
       "  </tbody>\n",
       "</table>\n",
       "</div>"
      ],
      "text/plain": [
       "                  Date   Time  Closing Price  Highest price  Lowest price  \\\n",
       "datetime                                                                    \n",
       "1998-01-02  01/02/1998  10:00         13.072         13.130        13.061   \n",
       "1998-01-02  01/02/1998  10:30         13.118         13.130        13.107   \n",
       "1998-01-02  01/02/1998  11:00         13.118         13.153        13.107   \n",
       "1998-01-02  01/02/1998  11:30         13.153         13.199        13.118   \n",
       "1998-01-02  01/02/1998  12:00         13.118         13.165        13.118   \n",
       "1998-01-02  01/02/1998  12:30         13.153         13.165        13.130   \n",
       "1998-01-02  01/02/1998  13:00         13.165         13.165        13.142   \n",
       "1998-01-02  01/02/1998  13:30         13.153         13.153        13.095   \n",
       "1998-01-02  01/02/1998  14:00         13.130         13.165        13.107   \n",
       "1998-01-02  01/02/1998  14:30         13.142         13.142        13.084   \n",
       "\n",
       "            Opening price  Volume  \n",
       "datetime                           \n",
       "1998-01-02         13.130  420554  \n",
       "1998-01-02         13.118  272411  \n",
       "1998-01-02         13.153  315824  \n",
       "1998-01-02         13.118  149775  \n",
       "1998-01-02         13.165  115044  \n",
       "1998-01-02         13.153  160083  \n",
       "1998-01-02         13.153   56438  \n",
       "1998-01-02         13.130   97679  \n",
       "1998-01-02         13.142  109075  \n",
       "1998-01-02         13.084  126983  "
      ]
     },
     "execution_count": 55,
     "metadata": {},
     "output_type": "execute_result"
    }
   ],
   "source": [
    "df['datetime']= pd.to_datetime (df['Date'])\n",
    "df=df.set_index('datetime')\n",
    "df.head(10)"
   ]
  },
  {
   "cell_type": "code",
   "execution_count": 60,
   "metadata": {},
   "outputs": [
    {
     "data": {
      "image/png": "[encoded data removed]",
      "text/plain": [
       "<Figure size 432x288 with 1 Axes>"
      ]
     },
     "metadata": {
      "needs_background": "light"
     },
     "output_type": "display_data"
    },
    {
     "data": {
      "text/plain": [
       "datetime\n",
       "1998-01-02    10:00\n",
       "1998-01-02    10:30\n",
       "1998-01-02    11:00\n",
       "1998-01-02    11:30\n",
       "1998-01-02    12:00\n",
       "1998-01-02    12:30\n",
       "1998-01-02    13:00\n",
       "1998-01-02    13:30\n",
       "1998-01-02    14:00\n",
       "1998-01-02    14:30\n",
       "1998-01-02    15:00\n",
       "1998-01-02    15:30\n",
       "1998-01-02    16:00\n",
       "Name: Time, dtype: object"
      ]
     },
     "execution_count": 60,
     "metadata": {},
     "output_type": "execute_result"
    }
   ],
   "source": [
    "df.resample('12M').median().plot()\n",
    "plt.show()\n",
    "df.loc['1998-01-02', 'Time']"
   ]
  },
  {
   "cell_type": "code",
   "execution_count": 57,
   "metadata": {},
   "outputs": [
    {
     "data": {
      "image/png": "[encoded data removed]",
      "text/plain": [
       "<Figure size 432x288 with 5 Axes>"
      ]
     },
     "metadata": {
      "needs_background": "light"
     },
     "output_type": "display_data"
    }
   ],
   "source": [
    "data1.plot(subplots = True) #each series in a dataframe can be plotted on a different axis with the \"subplots\"\n",
    "plt.show()"
   ]
  },
  {
   "cell_type": "code",
   "execution_count": 58,
   "metadata": {},
   "outputs": [
    {
     "data": {
      "image/png": "[encoded data removed]",
      "text/plain": [
       "<Figure size 432x288 with 1 Axes>"
      ]
     },
     "metadata": {
      "needs_background": "light"
     },
     "output_type": "display_data"
    }
   ],
   "source": [
    "data1.plot(kind = \"scatter\",x=\"Opening price\",y = \"Volume\")\n",
    "plt.show()  #visual correlation plot between 2 variables/features (opening price & volume here,we can do the same for other variables) by using scatter plot matrix "
   ]
  },
  {
   "cell_type": "code",
   "execution_count": 17,
   "metadata": {},
   "outputs": [
    {
     "data": {
      "text/plain": [
       "Closing Price    37397\n",
       "dtype: int64"
      ]
     },
     "execution_count": 17,
     "metadata": {},
     "output_type": "execute_result"
    }
   ],
   "source": [
    "df [['Closing Price']].idxmax()"
   ]
  },
  {
   "cell_type": "code",
   "execution_count": 19,
   "metadata": {},
   "outputs": [
    {
     "data": {
      "text/plain": [
       "'08:30'"
      ]
     },
     "execution_count": 19,
     "metadata": {},
     "output_type": "execute_result"
    }
   ],
   "source": [
    "df.iloc[37397,1]"
   ]
  },
  {
   "cell_type": "code",
   "execution_count": 20,
   "metadata": {},
   "outputs": [
    {
     "data": {
      "text/plain": [
       "'07/16/2007'"
      ]
     },
     "execution_count": 20,
     "metadata": {},
     "output_type": "execute_result"
    }
   ],
   "source": [
    "df.iloc [37397,0] #to determine from when the abrupt drop started"
   ]
  },
  {
   "cell_type": "code",
   "execution_count": 22,
   "metadata": {},
   "outputs": [
    {
     "data": {
      "text/plain": [
       "<matplotlib.axes._subplots.AxesSubplot at 0x1632e1f1b00>"
      ]
     },
     "execution_count": 22,
     "metadata": {},
     "output_type": "execute_result"
    },
    {
     "data": {
      "image/png": "[encoded data removed]",
      "text/plain": [
       "<Figure size 432x288 with 1 Axes>"
      ]
     },
     "metadata": {
      "needs_background": "light"
     },
     "output_type": "display_data"
    }
   ],
   "source": [
    "df['Closing Price'].hist ()"
   ]
  },
  {
   "cell_type": "markdown",
   "metadata": {},
   "source": [
    "# Summary"
   ]
  },
  {
   "cell_type": "markdown",
   "metadata": {},
   "source": []
  }
 ],
 "metadata": {
  "kernelspec": {
   "display_name": "Python 3",
   "language": "python",
   "name": "python3"
  },
  "language_info": {
   "codemirror_mode": {
    "name": "ipython",
    "version": 3
   },
   "file_extension": ".py",
   "mimetype": "text/x-python",
   "name": "python",
   "nbconvert_exporter": "python",
   "pygments_lexer": "ipython3",
   "version": "3.7.3"
  }
 },
 "nbformat": 4,
 "nbformat_minor": 2
}
